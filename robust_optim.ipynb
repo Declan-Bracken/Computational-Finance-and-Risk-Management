{
 "cells": [
  {
   "cell_type": "markdown",
   "metadata": {},
   "source": [
    "# Robust mean-variance portfolio selection"
   ]
  },
  {
   "cell_type": "markdown",
   "metadata": {},
   "source": [
    "### Import libraries"
   ]
  },
  {
   "cell_type": "code",
   "execution_count": 2,
   "metadata": {},
   "outputs": [],
   "source": [
    "import cvxpy as cp\n",
    "import numpy as np\n",
    "import matplotlib.pyplot as plt\n",
    "%matplotlib inline"
   ]
  },
  {
   "cell_type": "code",
   "execution_count": 3,
   "metadata": {},
   "outputs": [],
   "source": [
    "#np.random.seed(1337)\n",
    "#np.random.seed(178365)\n",
    "np.random.seed(978351)"
   ]
  },
  {
   "cell_type": "markdown",
   "metadata": {},
   "source": [
    "### Generate random data for 10 stocks"
   ]
  },
  {
   "cell_type": "code",
   "execution_count": 4,
   "metadata": {},
   "outputs": [],
   "source": [
    "# Random data for 10 stocks\n",
    "n = 10\n",
    "Q = np.random.random((n,n))\n",
    "Q = np.dot(Q,Q.T)/1000\n",
    "# Q\n",
    "mu = np.random.rand(n) / 100\n",
    "# mu"
   ]
  },
  {
   "cell_type": "markdown",
   "metadata": {},
   "source": [
    "### Equally-weighted portfolio"
   ]
  },
  {
   "cell_type": "code",
   "execution_count": 5,
   "metadata": {},
   "outputs": [
    {
     "data": {
      "text/plain": [
       "[0.1, 0.1, 0.1, 0.1, 0.1, 0.1, 0.1, 0.1, 0.1, 0.1]"
      ]
     },
     "execution_count": 5,
     "metadata": {},
     "output_type": "execute_result"
    }
   ],
   "source": [
    "# Define initial portfolio (\"equally weighted\" or \"1/n portfolio\")\n",
    "w0 = [1.0/n] * n\n",
    "w0"
   ]
  },
  {
   "cell_type": "code",
   "execution_count": 6,
   "metadata": {},
   "outputs": [],
   "source": [
    "# Sanity check\n",
    "Sum_w = sum(w0)\n",
    "# 1/n portfolio return\n",
    "ret_init = np.dot(mu, w0)\n",
    "# 1/n portfolio variance\n",
    "var_init = np.dot(w0, np.dot(Q, w0))"
   ]
  },
  {
   "cell_type": "code",
   "execution_count": 7,
   "metadata": {},
   "outputs": [
    {
     "name": "stdout",
     "output_type": "stream",
     "text": [
      "For original (equally weighted) portfolio:\n",
      "  sum of asset weights = 1.00\n",
      "  portfolio return  = 0.0038235552\n",
      "  portfolio st. dev = 0.0515116026\n"
     ]
    }
   ],
   "source": [
    "print('For original (equally weighted) portfolio:')\n",
    "print('  sum of asset weights = {0:0.2f}'.format(Sum_w))\n",
    "print('  portfolio return  = {0:12.10f}'.format(ret_init))\n",
    "print('  portfolio st. dev = {0:12.10f}'.format(np.sqrt(var_init)))"
   ]
  },
  {
   "cell_type": "code",
   "execution_count": 8,
   "metadata": {},
   "outputs": [],
   "source": [
    "# Required portfolio robustness\n",
    "var_matr = np.diag(np.diag(Q))\n",
    "# Target portfolio return estimation error is return estimation error of 1/n portfolio\n",
    "rob_init = np.dot(w0, np.dot(var_matr, w0)) # return estimation error of initial portfolio\n",
    "rob_bnd  = rob_init # target return estimation error"
   ]
  },
  {
   "cell_type": "markdown",
   "metadata": {},
   "source": [
    "### Compute minimum variance portfolio"
   ]
  },
  {
   "cell_type": "markdown",
   "metadata": {},
   "source": [
    "\\begin{equation}\n",
    "\\begin{array}{rl}\n",
    "\\displaystyle \\min_{w} & w^TQw \\\\\n",
    "{\\rm s.t.} & \\sum_i w_i = 1\\\\\n",
    "& w \\geq 0\n",
    "\\end{array}\n",
    "\\end{equation}"
   ]
  },
  {
   "cell_type": "code",
   "execution_count": 9,
   "metadata": {},
   "outputs": [
    {
     "name": "stdout",
     "output_type": "stream",
     "text": [
      "===============================================================================\n",
      "                                     CVXPY                                     \n",
      "                                     v1.4.1                                    \n",
      "===============================================================================\n",
      "(CVXPY) Jan 24 02:07:59 PM: Your problem has 10 variables, 2 constraints, and 0 parameters.\n",
      "(CVXPY) Jan 24 02:07:59 PM: It is compliant with the following grammars: DCP, DQCP\n",
      "(CVXPY) Jan 24 02:07:59 PM: (If you need to solve this problem multiple times, but with different data, consider using parameters.)\n",
      "(CVXPY) Jan 24 02:07:59 PM: CVXPY will first compile your problem; then, it will invoke a numerical solver to obtain a solution.\n",
      "(CVXPY) Jan 24 02:07:59 PM: Your problem is compiled with the CPP canonicalization backend.\n",
      "-------------------------------------------------------------------------------\n",
      "                                  Compilation                                  \n",
      "-------------------------------------------------------------------------------\n",
      "(CVXPY) Jan 24 02:07:59 PM: Compiling problem (target solver=CPLEX).\n",
      "(CVXPY) Jan 24 02:07:59 PM: Reduction chain: CvxAttr2Constr -> Qp2SymbolicQp -> QpMatrixStuffing -> CPLEX\n",
      "(CVXPY) Jan 24 02:07:59 PM: Applying reduction CvxAttr2Constr\n",
      "(CVXPY) Jan 24 02:07:59 PM: Applying reduction Qp2SymbolicQp\n",
      "(CVXPY) Jan 24 02:07:59 PM: Applying reduction QpMatrixStuffing\n",
      "(CVXPY) Jan 24 02:07:59 PM: Applying reduction CPLEX\n",
      "(CVXPY) Jan 24 02:07:59 PM: Finished problem compilation (took 4.058e-02 seconds).\n",
      "-------------------------------------------------------------------------------\n",
      "                                Numerical solver                               \n",
      "-------------------------------------------------------------------------------\n",
      "(CVXPY) Jan 24 02:07:59 PM: Invoking solver CPLEX  to obtain a solution.\n",
      "Version identifier: 22.1.1.0 | 2022-11-27 | 9160aff4d\n",
      "CPXPARAM_Read_DataCheck                          1\n",
      "CPXPARAM_QPMethod                                6\n",
      "Parallel mode: deterministic, using up to 8 threads for concurrent optimization:\n",
      " * Starting dual Simplex on 1 thread...\n",
      " * Starting Barrier on 6 threads...\n",
      " * Starting primal Simplex on 1 thread...\n",
      "Number of nonzeros in lower triangle of Q = 45\n",
      "Using Approximate Minimum Degree ordering\n",
      "Total time for automatic ordering = 0.00 sec. (0.00 ticks)\n",
      "Summary statistics for factor of Q:\n",
      "  Rows in Factor            = 10\n",
      "  Integer space required    = 10\n",
      "  Total non-zeros in factor = 55\n",
      "  Total FP ops to factor    = 385\n",
      "Tried aggregator 1 time.\n",
      "QP Presolve eliminated 10 rows and 0 columns.\n",
      "Number of nonzeros in lower triangle of Q = 45\n",
      "Using Approximate Minimum Degree ordering\n",
      "Total time for automatic ordering = 0.00 sec. (0.00 ticks)\n",
      "Summary statistics for factor of Q:\n",
      "  Rows in Factor            = 10\n",
      "  Integer space required    = 10\n",
      "  Total non-zeros in factor = 55\n",
      "  Total FP ops to factor    = 385\n",
      "Reduced QP has 1 rows, 10 columns, and 10 nonzeros.\n",
      "Reduced QP objective Q matrix has 100 nonzeros.\n",
      "Presolve time = 0.05 sec. (0.02 ticks)\n",
      "\n",
      "Iteration log . . .\n",
      "Iteration:     1    Objective     =             0.000000\n",
      "\n",
      "Dual simplex solved model.\n",
      "\n",
      "-------------------------------------------------------------------------------\n",
      "                                    Summary                                    \n",
      "-------------------------------------------------------------------------------\n",
      "(CVXPY) Jan 24 02:07:59 PM: Problem status: optimal\n",
      "(CVXPY) Jan 24 02:07:59 PM: Optimal value: 1.899e-03\n",
      "(CVXPY) Jan 24 02:07:59 PM: Compilation took 4.058e-02 seconds\n",
      "(CVXPY) Jan 24 02:07:59 PM: Solver (including time spent in interface) took 1.637e-01 seconds\n",
      "\n",
      "Solution status:  optimal\n",
      "Solution optimal value:  0.001899092402601308\n",
      "Solution w: \n",
      "[0.         0.4020407  0.21289059 0.         0.         0.\n",
      " 0.         0.38506871 0.         0.        ]\n"
     ]
    }
   ],
   "source": [
    "w1 = cp.Variable(n)\n",
    "prob1 = cp.Problem(cp.Minimize(cp.quad_form(w1, Q)),\n",
    "                 [sum(w1) == 1,\n",
    "                  w1 >= 0])\n",
    "prob1.solve(solver=cp.CPLEX, verbose=True,cplex_params={\"qpmethod\": 6})\n",
    "\n",
    "# Print results\n",
    "print(\"\\nSolution status: \", prob1.status)\n",
    "print(\"Solution optimal value: \", prob1.value)\n",
    "print(\"Solution w: \")\n",
    "print(w1.value)"
   ]
  },
  {
   "cell_type": "code",
   "execution_count": 10,
   "metadata": {},
   "outputs": [
    {
     "data": {
      "text/plain": [
       "True"
      ]
     },
     "execution_count": 10,
     "metadata": {},
     "output_type": "execute_result"
    }
   ],
   "source": [
    "# Check constraint\n",
    "np.allclose(np.sum(w1.value),1)"
   ]
  },
  {
   "cell_type": "code",
   "execution_count": 11,
   "metadata": {},
   "outputs": [
    {
     "name": "stdout",
     "output_type": "stream",
     "text": [
      "Minimum variance portfolio:\n",
      "\n",
      "   Solution status = optimal\n",
      "    Solution value = 0.001899092402601308\n",
      "          Variance = 0.001899092402601308\n",
      "   Expected return = 0.0032674778416423404\n",
      "Standard deviation = 0.043578577335673864\n"
     ]
    }
   ],
   "source": [
    "w_minVar = w1.value\n",
    "var_minVar = np.dot(w_minVar, np.dot(Q, w_minVar))\n",
    "ret_minVar = np.dot(mu, w_minVar)\n",
    "rob_minVar = np.dot(w_minVar, np.dot(var_matr, w_minVar))\n",
    "print(\"Minimum variance portfolio:\\n\")\n",
    "print(\"   Solution status =\", prob1.status)\n",
    "print(\"    Solution value =\", prob1.value)\n",
    "print(\"          Variance =\", var_minVar)\n",
    "print(\"   Expected return =\", ret_minVar)\n",
    "print(\"Standard deviation =\", np.sqrt(var_minVar))"
   ]
  },
  {
   "cell_type": "markdown",
   "metadata": {},
   "source": [
    "### Compute robust mean-variance portfolio"
   ]
  },
  {
   "cell_type": "markdown",
   "metadata": {},
   "source": [
    "\\begin{equation}\n",
    "  \\begin{array}{lll}\n",
    "    \\min   & w^TQw       \\\\\n",
    "    {\\rm s.t.} & \\begin{array}[t]{@{\\hspace{0cm}}r@{\\hspace{0.1cm}}c@{\\hspace{0.1cm}}ll}\n",
    "          \\sum_{i=1}^n w_i & = & 1  \\\\\n",
    "          \\mu^T w & \\geq & \\varepsilon_{\\rm ret} \\\\\n",
    "          w^T \\Theta w & \\leq & \\tilde{\\varepsilon}_{\\rm rob} \\\\\n",
    "            w & \\geq & 0\n",
    "     \\end{array}\n",
    "  \\end{array}\n",
    "\\end{equation}"
   ]
  },
  {
   "cell_type": "code",
   "execution_count": 12,
   "metadata": {},
   "outputs": [],
   "source": [
    "# Target portfolio return is return of minimum variance portfolio\n",
    "Portf_Retn = ret_minVar"
   ]
  },
  {
   "cell_type": "code",
   "execution_count": 13,
   "metadata": {},
   "outputs": [],
   "source": [
    "Qq_rMV = var_matr\n",
    "Qq_rMVs = np.sqrt(Qq_rMV)"
   ]
  },
  {
   "cell_type": "code",
   "execution_count": 14,
   "metadata": {},
   "outputs": [
    {
     "name": "stdout",
     "output_type": "stream",
     "text": [
      "===============================================================================\n",
      "                                     CVXPY                                     \n",
      "                                     v1.4.1                                    \n",
      "===============================================================================\n",
      "(CVXPY) Jan 24 02:08:12 PM: Your problem has 10 variables, 5 constraints, and 0 parameters.\n",
      "(CVXPY) Jan 24 02:08:12 PM: It is compliant with the following grammars: DCP, DQCP\n",
      "(CVXPY) Jan 24 02:08:12 PM: (If you need to solve this problem multiple times, but with different data, consider using parameters.)\n",
      "(CVXPY) Jan 24 02:08:12 PM: CVXPY will first compile your problem; then, it will invoke a numerical solver to obtain a solution.\n",
      "(CVXPY) Jan 24 02:08:12 PM: Your problem is compiled with the CPP canonicalization backend.\n",
      "-------------------------------------------------------------------------------\n",
      "                                  Compilation                                  \n",
      "-------------------------------------------------------------------------------\n",
      "(CVXPY) Jan 24 02:08:12 PM: Compiling problem (target solver=CPLEX).\n",
      "(CVXPY) Jan 24 02:08:12 PM: Reduction chain: Dcp2Cone -> CvxAttr2Constr -> ConeMatrixStuffing -> CPLEX\n",
      "(CVXPY) Jan 24 02:08:12 PM: Applying reduction Dcp2Cone\n",
      "(CVXPY) Jan 24 02:08:12 PM: Applying reduction CvxAttr2Constr\n",
      "(CVXPY) Jan 24 02:08:12 PM: Applying reduction ConeMatrixStuffing\n",
      "(CVXPY) Jan 24 02:08:12 PM: Applying reduction CPLEX\n",
      "(CVXPY) Jan 24 02:08:12 PM: Finished problem compilation (took 7.161e-02 seconds).\n",
      "-------------------------------------------------------------------------------\n",
      "                                Numerical solver                               \n",
      "-------------------------------------------------------------------------------\n",
      "(CVXPY) Jan 24 02:08:12 PM: Invoking solver CPLEX  to obtain a solution.\n",
      "Version identifier: 22.1.1.0 | 2022-11-27 | 9160aff4d\n",
      "CPXPARAM_Read_DataCheck                          1\n",
      "CPXPARAM_Preprocessing_QCPDuals                  2\n",
      "Tried aggregator 1 time.\n",
      "QCP Presolve eliminated 21 rows and 0 columns.\n",
      "Aggregator did 2 substitutions.\n",
      "Reduced QCP has 35 rows, 34 columns, and 165 nonzeros.\n",
      "Reduced QCP has 2 quadratic constraints.\n",
      "Presolve time = 0.00 sec. (0.03 ticks)\n",
      "Parallel mode: using up to 8 threads for barrier.\n",
      "Number of nonzeros in lower triangle of A*A' = 392\n",
      "Using Approximate Minimum Degree ordering\n",
      "Total time for automatic ordering = 0.01 sec. (0.02 ticks)\n",
      "Summary statistics for Cholesky factor:\n",
      "  Threads                   = 8\n",
      "  Rows in Factor            = 35\n",
      "  Integer space required    = 68\n",
      "  Total non-zeros in factor = 544\n",
      "  Total FP ops to factor    = 10998\n",
      " Itn      Primal Obj        Dual Obj  Prim Inf Upper Inf  Dual Inf Inf Ratio\n",
      "   0   1.1236799e-02  -2.7128034e-02  4.55e+01  0.00e+00  2.48e+01  1.00e+00\n",
      "   1   1.7911270e-02  -1.0356799e-01  4.55e+01  0.00e+00  2.48e+01  3.50e+02\n",
      "   2   7.2267211e-03   2.3508091e-03  5.45e+00  0.00e+00  2.97e+00  1.73e+03\n",
      "   3   2.7686274e-03   2.4024745e-03  2.39e-01  0.00e+00  1.30e-01  2.44e+04\n",
      "   4   2.4483721e-03   2.3898560e-03  1.79e-02  0.00e+00  9.73e-03  7.04e+04\n",
      "   5   2.4236364e-03   2.3957669e-03  3.19e-03  0.00e+00  1.74e-03  7.75e+04\n",
      "   6   2.3196870e-03   2.3115271e-03  1.79e-03  0.00e+00  9.74e-04  2.02e+05\n",
      "   7   2.3106725e-03   2.3083683e-03  5.74e-04  0.00e+00  3.13e-04  6.61e+05\n",
      "   8   2.3069015e-03   2.3068652e-03  1.67e-04  0.00e+00  9.12e-05  4.22e+07\n",
      "   9   2.3068156e-03   2.3068142e-03  2.63e-06  0.00e+00  1.43e-06  1.04e+09\n",
      "-------------------------------------------------------------------------------\n",
      "                                    Summary                                    \n",
      "-------------------------------------------------------------------------------\n",
      "(CVXPY) Jan 24 02:08:12 PM: Problem status: optimal\n",
      "(CVXPY) Jan 24 02:08:12 PM: Optimal value: 2.307e-03\n",
      "(CVXPY) Jan 24 02:08:12 PM: Compilation took 7.161e-02 seconds\n",
      "(CVXPY) Jan 24 02:08:12 PM: Solver (including time spent in interface) took 8.905e-02 seconds\n",
      "\n",
      "Solution status:  optimal\n",
      "Solution optimal value:  0.002306815645407978\n",
      "Solution w: \n",
      "[0.11752967 0.17772463 0.12317653 0.10594778 0.05175705 0.04253299\n",
      " 0.02907012 0.16909294 0.09695817 0.08621014]\n"
     ]
    }
   ],
   "source": [
    "w2 = cp.Variable(n)\n",
    "prob2 = cp.Problem(cp.Minimize(cp.quad_form(w2, Q)),\n",
    "                 [sum(w2) == 1,\n",
    "                  mu.T@w2 >= Portf_Retn,\n",
    "                  cp.quad_form(w2, Qq_rMV) <= rob_bnd,\n",
    "                  w2 >= 0, w2 <= 1])\n",
    "prob2.solve(solver=cp.CPLEX, verbose=True)\n",
    "\n",
    "# Print results\n",
    "print(\"\\nSolution status: \", prob2.status)\n",
    "print(\"Solution optimal value: \", prob2.value)\n",
    "print(\"Solution w: \")\n",
    "print(w2.value)"
   ]
  },
  {
   "cell_type": "code",
   "execution_count": 15,
   "metadata": {},
   "outputs": [
    {
     "name": "stdout",
     "output_type": "stream",
     "text": [
      "Robust mean-varinace portfolio:\n",
      "\n",
      "   Solution status = optimal\n",
      "    Solution value = 0.002306815645407978\n",
      "          Variance = 0.002306815645407978\n",
      "   Expected return = 0.003380178892442723\n",
      "Standard deviation = 0.04802932068443169\n"
     ]
    }
   ],
   "source": [
    "w_rob1 = w2.value\n",
    "var_rob1 = np.dot(w_rob1, np.dot(Q, w_rob1))\n",
    "ret_rob1 = np.dot(mu, w_rob1)\n",
    "print(\"Robust mean-varinace portfolio:\\n\")\n",
    "print(\"   Solution status =\", prob2.status)\n",
    "print(\"    Solution value =\", prob2.value)\n",
    "print(\"          Variance =\", var_rob1)\n",
    "print(\"   Expected return =\", ret_rob1)\n",
    "print(\"Standard deviation =\", np.sqrt(var_rob1))"
   ]
  },
  {
   "cell_type": "markdown",
   "metadata": {},
   "source": [
    "### Define and solve CPLEX robust mean-variance model directly without CVXPY"
   ]
  },
  {
   "cell_type": "code",
   "execution_count": 16,
   "metadata": {},
   "outputs": [],
   "source": [
    "import cplex"
   ]
  },
  {
   "cell_type": "code",
   "execution_count": 17,
   "metadata": {},
   "outputs": [],
   "source": [
    "cpx = cplex.Cplex()\n",
    "cpx.objective.set_sense(cpx.objective.sense.minimize)"
   ]
  },
  {
   "cell_type": "code",
   "execution_count": 18,
   "metadata": {},
   "outputs": [],
   "source": [
    "c  = [0.0] * n\n",
    "lb = [0.0] * n\n",
    "ub = [1.0] * n"
   ]
  },
  {
   "cell_type": "code",
   "execution_count": 19,
   "metadata": {},
   "outputs": [
    {
     "data": {
      "text/plain": [
       "[[[0, 1], [1.0, 0.003576727911786397]],\n",
       " [[0, 1], [1.0, 0.00344522590632511]],\n",
       " [[0, 1], [1.0, 0.0007969492511468001]],\n",
       " [[0, 1], [1.0, 0.00018690160307030746]],\n",
       " [[0, 1], [1.0, 0.0035750515214236366]],\n",
       " [[0, 1], [1.0, 0.00893492393857598]],\n",
       " [[0, 1], [1.0, 0.005423138353068148]],\n",
       " [[0, 1], [1.0, 0.004447761567604534]],\n",
       " [[0, 1], [1.0, 0.007265204890217466]],\n",
       " [[0, 1], [1.0, 0.0005836669139738493]]]"
      ]
     },
     "execution_count": 19,
     "metadata": {},
     "output_type": "execute_result"
    }
   ],
   "source": [
    "A = []\n",
    "for k in range(n):\n",
    "    A.append([[0,1],[1.0,mu[k]]])\n",
    "A"
   ]
  },
  {
   "cell_type": "code",
   "execution_count": 20,
   "metadata": {},
   "outputs": [
    {
     "data": {
      "text/plain": [
       "['w_1', 'w_2', 'w_3', 'w_4', 'w_5', 'w_6', 'w_7', 'w_8', 'w_9', 'w_10']"
      ]
     },
     "execution_count": 20,
     "metadata": {},
     "output_type": "execute_result"
    }
   ],
   "source": [
    "var_names = [\"w_%s\" % i for i in range(1,n+1)]\n",
    "var_names"
   ]
  },
  {
   "cell_type": "code",
   "execution_count": 21,
   "metadata": {},
   "outputs": [
    {
     "data": {
      "text/plain": [
       "range(0, 2)"
      ]
     },
     "execution_count": 21,
     "metadata": {},
     "output_type": "execute_result"
    }
   ],
   "source": [
    "cpx.linear_constraints.add(rhs=[1.0,Portf_Retn], senses=\"EG\")"
   ]
  },
  {
   "cell_type": "code",
   "execution_count": 22,
   "metadata": {},
   "outputs": [
    {
     "data": {
      "text/plain": [
       "range(0, 10)"
      ]
     },
     "execution_count": 22,
     "metadata": {},
     "output_type": "execute_result"
    }
   ],
   "source": [
    "cpx.variables.add(obj=c, lb=lb, ub=ub, columns=A, names=var_names)"
   ]
  },
  {
   "cell_type": "code",
   "execution_count": 23,
   "metadata": {},
   "outputs": [],
   "source": [
    "Qmat = [[list(range(n)), list(2*Q[k,:])] for k in range(n)]"
   ]
  },
  {
   "cell_type": "code",
   "execution_count": 24,
   "metadata": {},
   "outputs": [],
   "source": [
    "cpx.objective.set_quadratic(Qmat)"
   ]
  },
  {
   "cell_type": "code",
   "execution_count": 25,
   "metadata": {},
   "outputs": [
    {
     "data": {
      "text/plain": [
       "0"
      ]
     },
     "execution_count": 25,
     "metadata": {},
     "output_type": "execute_result"
    }
   ],
   "source": [
    "Qcon = cplex.SparseTriple(ind1=var_names, ind2=range(n), val=np.diag(var_matr))\n",
    "cpx.quadratic_constraints.add(rhs=rob_bnd, quad_expr=Qcon, name=\"Qc\")"
   ]
  },
  {
   "cell_type": "code",
   "execution_count": 26,
   "metadata": {},
   "outputs": [
    {
     "name": "stdout",
     "output_type": "stream",
     "text": [
      "Setting number of threads =  4\n",
      "Setting timelimit =  60\n",
      "Setting Barrier algorithm convergence tolerance =  1e-12\n"
     ]
    }
   ],
   "source": [
    "cpx.parameters.threads.set(4)\n",
    "print(\"Setting number of threads = \", 4)\n",
    "cpx.parameters.timelimit.set(60)\n",
    "print(\"Setting timelimit = \", 60)\n",
    "cpx.parameters.barrier.qcpconvergetol.set(1e-12)\n",
    "print(\"Setting Barrier algorithm convergence tolerance = \", 1e-12)"
   ]
  },
  {
   "cell_type": "code",
   "execution_count": 27,
   "metadata": {},
   "outputs": [
    {
     "name": "stdout",
     "output_type": "stream",
     "text": [
      "Version identifier: 22.1.1.0 | 2022-11-27 | 9160aff4d\n",
      "CPXPARAM_Read_DataCheck                          1\n",
      "CPXPARAM_Threads                                 4\n",
      "CPXPARAM_TimeLimit                               60\n",
      "CPXPARAM_Barrier_QCPConvergeTol                  9.9999999999999998e-13\n",
      "Tried aggregator 1 time.\n",
      "Aggregator did 1 substitutions.\n",
      "Reduced QCP has 35 rows, 33 columns, and 119 nonzeros.\n",
      "Reduced QCP has 2 quadratic constraints.\n",
      "Presolve time = 0.00 sec. (0.03 ticks)\n",
      "Parallel mode: using up to 4 threads for barrier.\n",
      "Number of nonzeros in lower triangle of A*A' = 302\n",
      "Using Approximate Minimum Degree ordering\n",
      "Total time for automatic ordering = 0.02 sec. (0.02 ticks)\n",
      "Summary statistics for Cholesky factor:\n",
      "  Threads                   = 4\n",
      "  Rows in Factor            = 35\n",
      "  Integer space required    = 84\n",
      "  Total non-zeros in factor = 446\n",
      "  Total FP ops to factor    = 7550\n",
      " Itn      Primal Obj        Dual Obj  Prim Inf Upper Inf  Dual Inf Inf Ratio\n",
      "   0   1.8284271e+00  -1.0000000e+00  2.43e+01  0.00e+00  2.50e+01  1.00e+00\n",
      "   1   3.1018582e-02  -1.7032731e-01  2.43e+01  0.00e+00  2.50e+01  3.01e+01\n",
      "   2   6.3230651e-03  -2.7741883e-03  1.49e+00  0.00e+00  1.53e+00  1.85e+02\n",
      "   3   2.7320620e-03   1.9851580e-03  9.20e-02  0.00e+00  9.47e-02  2.94e+03\n",
      "   4   2.4624961e-03   2.0129116e-03  6.89e-03  0.00e+00  7.10e-03  6.26e+03\n",
      "   5   2.3884486e-03   2.2842174e-03  3.87e-03  0.00e+00  3.98e-03  2.94e+04\n",
      "   6   2.3309480e-03   2.2420611e-03  8.77e-04  0.00e+00  9.03e-04  3.67e+04\n",
      "   7   2.3119233e-03   2.2944989e-03  7.37e-04  0.00e+00  7.58e-04  1.97e+05\n",
      "   8   2.3074455e-03   2.3065441e-03  1.43e-04  0.00e+00  1.47e-04  4.43e+06\n",
      "   9   2.3068849e-03   2.3067767e-03  7.15e-06  0.00e+00  7.36e-06  3.76e+07\n",
      "  10   2.3068135e-03   2.3068086e-03  8.56e-07  0.00e+00  8.81e-07  8.41e+08\n",
      "  11   2.3068119e-03   2.3068114e-03  3.84e-08  0.00e+00  3.95e-08  8.77e+09\n",
      "  12   2.3068118e-03   2.3068118e-03  3.89e-09  0.00e+00  4.00e-09  4.84e+11\n",
      "  13   2.3068118e-03   2.3068118e-03  7.36e-11  0.00e+00  7.56e-11  4.65e+12\n",
      "  14   2.3068118e-03   2.3068118e-03  8.47e-12  0.00e+00  8.34e-12  4.30e+13\n"
     ]
    }
   ],
   "source": [
    "# Disable CPLEX output to screen\n",
    "#cpx.set_results_stream(None)\n",
    "#cpx.set_warning_stream(None)\n",
    "import time\n",
    "start = time.time()\n",
    "cpx.solve()\n",
    "duration = time.time() - start"
   ]
  },
  {
   "cell_type": "code",
   "execution_count": 28,
   "metadata": {},
   "outputs": [],
   "source": [
    "w_rMV = cpx.solution.get_values()\n",
    "card_rMV = np.count_nonzero(w_rMV)\n",
    "ret_rMV  = np.dot(mu, w_rMV)\n",
    "var_rMV = np.dot(w_rMV, np.dot(Q, w_rMV))\n",
    "rob_rMV = np.dot(w_rMV, np.dot(var_matr, w_rMV))"
   ]
  },
  {
   "cell_type": "code",
   "execution_count": 29,
   "metadata": {},
   "outputs": [
    {
     "name": "stdout",
     "output_type": "stream",
     "text": [
      "            Solution status = 1\n",
      "     Solution status string = optimal\n",
      "              Solution time = 0.064 seconds\n",
      "         Solution objective = 0.00230681\n"
     ]
    }
   ],
   "source": [
    "print('            Solution status =', cpx.solution.get_status())\n",
    "print('     Solution status string =', cpx.solution.status[cpx.solution.get_status()])\n",
    "print('              Solution time = {0:4.3f} seconds'.format(duration))\n",
    "print('         Solution objective = {0:10.8f}'.format(cpx.solution.get_objective_value()))"
   ]
  },
  {
   "cell_type": "code",
   "execution_count": 30,
   "metadata": {},
   "outputs": [
    {
     "name": "stdout",
     "output_type": "stream",
     "text": [
      "      Portfolio cardinality = 10\n",
      "         Solution objective = 0.00230681\n",
      "     Portfolio rMV variance = 0.00230681\n",
      "      Sum of asset weights =  1.0000000\n",
      "\n",
      "       Portfolio rMV return =   0.00338\n",
      "    Portfolio minVar return =   0.00327\n",
      "      Portfolio init return =   0.00382\n",
      "\n",
      "      Portfolio rMV st.dev. =   0.04803\n",
      "   Portfolio minVar st.dev. =   0.04358\n",
      "     Portfolio init st.dev. =   0.05151\n",
      "\n",
      "   Portfolio rMV r.est.err. =   0.01839\n",
      " Portfolio r.est.err. bound =   0.01839\n",
      "Portfolio minVar r.est.err. =   0.02918\n",
      "  Portfolio init r.est.err. =   0.01839\n",
      "\n",
      "   # of zero portf. weights = 0\n",
      "  # of positive pf. weights = 10\n"
     ]
    }
   ],
   "source": [
    "if(cpx.solution.get_status() == 1):\n",
    "    print('      Portfolio cardinality = {0:d}'.format(card_rMV))\n",
    "    print('         Solution objective = {0:10.8f}'.format(cpx.solution.get_objective_value()))\n",
    "    print('     Portfolio rMV variance = {0:10.8f}'.format(var_rMV))\n",
    "    print('      Sum of asset weights = {0:10.7f}'.format(np.sum(w_rMV)))\n",
    "    print('\\n       Portfolio rMV return = {0:9.5f}'.format(ret_rMV))\n",
    "    print('    Portfolio minVar return = {0:9.5f}'.format(ret_minVar))\n",
    "    print('      Portfolio init return = {0:9.5f}'.format(ret_init))   \n",
    "    print('\\n      Portfolio rMV st.dev. = {0:9.5f}'.format(np.sqrt(var_rMV)))\n",
    "    print('   Portfolio minVar st.dev. = {0:9.5f}'.format(np.sqrt(var_minVar)))\n",
    "    print('     Portfolio init st.dev. = {0:9.5f}'.format(np.sqrt(var_init)))\n",
    "    print('\\n   Portfolio rMV r.est.err. = {0:9.5f}'.format(np.sqrt(rob_rMV)))\n",
    "    print(' Portfolio r.est.err. bound = {0:9.5f}'.format(np.sqrt(rob_bnd)))\n",
    "    print('Portfolio minVar r.est.err. = {0:9.5f}'.format(np.sqrt(rob_minVar)))\n",
    "    print('  Portfolio init r.est.err. = {0:9.5f}'.format(np.sqrt(rob_init)))\n",
    "    print('\\n   # of zero portf. weights = {0}'.format(np.sum((np.array(w_rMV) == 0))))\n",
    "    print('  # of positive pf. weights = {0}'.format(np.sum((np.array(w_rMV) > 0))))"
   ]
  },
  {
   "cell_type": "markdown",
   "metadata": {},
   "source": [
    "Round near-zero portfolio weights, if necessary."
   ]
  },
  {
   "cell_type": "code",
   "execution_count": 31,
   "metadata": {},
   "outputs": [
    {
     "name": "stdout",
     "output_type": "stream",
     "text": [
      "Portfolio weights before and after rounding of near-zero elements:\n",
      "                0.1174720   0.1174720\n",
      "                0.1777841   0.1777841\n",
      "                0.1230810   0.1230810\n",
      "                0.1060153   0.1060153\n",
      "                0.0518653   0.0518653\n",
      "                0.0425496   0.0425496\n",
      "                0.0290092   0.0290092\n",
      "                0.1690974   0.1690974\n",
      "                0.0969539   0.0969539\n",
      "                0.0861722   0.0861722\n"
     ]
    }
   ],
   "source": [
    "import copy\n",
    "# Round near-zero portfolio weights\n",
    "w_rMV = np.array(w_rMV)\n",
    "w_rMV_nonrnd = copy.deepcopy(w_rMV)\n",
    "w_rMV[w_rMV<1e-6] = 0\n",
    "w_rMV = w_rMV / np.sum(w_rMV)\n",
    "w_list = [w_rMV_nonrnd, w_rMV] \n",
    "# using zip() to print list vertically\n",
    "print('Portfolio weights before and after rounding of near-zero elements:')\n",
    "for w1, w2 in zip(*w_list):\n",
    "    print('                {0:0.7f}   {1:0.7f}'.format(w1, w2))"
   ]
  },
  {
   "cell_type": "markdown",
   "metadata": {},
   "source": [
    "Compare portfolio weights obtained from CPLEX and CVXPY."
   ]
  },
  {
   "cell_type": "code",
   "execution_count": 32,
   "metadata": {},
   "outputs": [
    {
     "name": "stdout",
     "output_type": "stream",
     "text": [
      "Portfolio weights obtained from CPLEX and CVXPY:\n",
      "                0.11747   0.11753\n",
      "                0.17778   0.17772\n",
      "                0.12308   0.12318\n",
      "                0.10602   0.10595\n",
      "                0.05187   0.05176\n",
      "                0.04255   0.04253\n",
      "                0.02901   0.02907\n",
      "                0.16910   0.16909\n",
      "                0.09695   0.09696\n",
      "                0.08617   0.08621\n",
      "\n",
      "Difference of two portfolios in L2-norm = 0.00019428706289649343\n"
     ]
    }
   ],
   "source": [
    "wrMV_list = [w_rMV, w_rob1]\n",
    "# using zip() to print list vertically\n",
    "print('Portfolio weights obtained from CPLEX and CVXPY:')\n",
    "for w1, w2 in zip(*wrMV_list):\n",
    "    print('                {0:0.5f}   {1:0.5f}'.format(w1, w2))\n",
    "print('\\nDifference of two portfolios in L2-norm =', np.linalg.norm(w_rMV-w_rob1, ord=2))"
   ]
  }
 ],
 "metadata": {
  "anaconda-cloud": {},
  "kernelspec": {
   "display_name": "Python 3 (ipykernel)",
   "language": "python",
   "name": "python3"
  },
  "language_info": {
   "codemirror_mode": {
    "name": "ipython",
    "version": 3
   },
   "file_extension": ".py",
   "mimetype": "text/x-python",
   "name": "python",
   "nbconvert_exporter": "python",
   "pygments_lexer": "ipython3",
   "version": "3.10.13"
  }
 },
 "nbformat": 4,
 "nbformat_minor": 4
}
